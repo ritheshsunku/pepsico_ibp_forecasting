{
 "cells": [
  {
   "cell_type": "code",
   "execution_count": 0,
   "metadata": {
    "application/vnd.databricks.v1+cell": {
     "cellMetadata": {},
     "inputWidgets": {},
     "nuid": "1c96e2ab-50bb-4bd7-9c96-4933021881b3",
     "showTitle": false,
     "title": ""
    }
   },
   "outputs": [
    {
     "data": {
      "text/html": [
       "<style scoped>\n",
       "  .ansiout {\n",
       "    display: block;\n",
       "    unicode-bidi: embed;\n",
       "    white-space: pre-wrap;\n",
       "    word-wrap: break-word;\n",
       "    word-break: break-all;\n",
       "    font-family: \"Source Code Pro\", \"Menlo\", monospace;;\n",
       "    font-size: 13px;\n",
       "    color: #555;\n",
       "    margin-left: 4px;\n",
       "    line-height: 19px;\n",
       "  }\n",
       "</style>\n",
       "<div class=\"ansiout\"></div>"
      ]
     },
     "metadata": {
      "application/vnd.databricks.v1+output": {
       "addedWidgets": {},
       "arguments": {},
       "data": "<div class=\"ansiout\"></div>",
       "datasetInfos": [],
       "metadata": {},
       "removedWidgets": [],
       "type": "html"
      }
     },
     "output_type": "display_data"
    }
   ],
   "source": [
    "import yaml"
   ]
  },
  {
   "cell_type": "code",
   "execution_count": 0,
   "metadata": {
    "application/vnd.databricks.v1+cell": {
     "cellMetadata": {},
     "inputWidgets": {},
     "nuid": "e28fdc20-b8c3-4460-a2d0-fe51ef35c694",
     "showTitle": true,
     "title": "General Inputs"
    }
   },
   "outputs": [
    {
     "data": {
      "text/html": [
       "<style scoped>\n",
       "  .ansiout {\n",
       "    display: block;\n",
       "    unicode-bidi: embed;\n",
       "    white-space: pre-wrap;\n",
       "    word-wrap: break-word;\n",
       "    word-break: break-all;\n",
       "    font-family: \"Source Code Pro\", \"Menlo\", monospace;;\n",
       "    font-size: 13px;\n",
       "    color: #555;\n",
       "    margin-left: 4px;\n",
       "    line-height: 19px;\n",
       "  }\n",
       "</style>\n",
       "<div class=\"ansiout\"></div>"
      ]
     },
     "metadata": {
      "application/vnd.databricks.v1+output": {
       "addedWidgets": {},
       "arguments": {},
       "data": "<div class=\"ansiout\"></div>",
       "datasetInfos": [],
       "metadata": {},
       "removedWidgets": [],
       "type": "html"
      }
     },
     "output_type": "display_data"
    }
   ],
   "source": [
    "# Must have parameters - \n",
    "# dependent_variable, date_var, date_format_pandas, date_format_pyspark, modelling_granularity ,input_file_path,output_dir_path\n",
    "\n",
    "general_inputs = \"\"\"\n",
    "\n",
    "  dependent_variable : Sales_Qty_fill \n",
    "  date_var : Week_Start_Date\n",
    "  date_format_pandas : \"%d-%m-%Y\"\n",
    "  modeling_granularity : [Div_No, Store_No,Base_UPC]\n",
    "  input_file_path : \"/home/satish/Modelling/Forecaster/modeling-sample.csv\"\n",
    "  output_dir_path : \"/home/satish/Modelilng/Forecaster/modeling_results_python\"\n",
    "\n",
    "\"\"\""
   ]
  },
  {
   "cell_type": "code",
   "execution_count": 0,
   "metadata": {
    "application/vnd.databricks.v1+cell": {
     "cellMetadata": {},
     "inputWidgets": {},
     "nuid": "893f9b69-c477-4781-bc37-9a13d7795591",
     "showTitle": true,
     "title": "Data Processing"
    }
   },
   "outputs": [
    {
     "data": {
      "text/html": [
       "<style scoped>\n",
       "  .ansiout {\n",
       "    display: block;\n",
       "    unicode-bidi: embed;\n",
       "    white-space: pre-wrap;\n",
       "    word-wrap: break-word;\n",
       "    word-break: break-all;\n",
       "    font-family: \"Source Code Pro\", \"Menlo\", monospace;;\n",
       "    font-size: 13px;\n",
       "    color: #555;\n",
       "    margin-left: 4px;\n",
       "    line-height: 19px;\n",
       "  }\n",
       "</style>\n",
       "<div class=\"ansiout\"></div>"
      ]
     },
     "metadata": {
      "application/vnd.databricks.v1+output": {
       "addedWidgets": {},
       "arguments": {},
       "data": "<div class=\"ansiout\"></div>",
       "datasetInfos": [],
       "metadata": {},
       "removedWidgets": [],
       "type": "html"
      }
     },
     "output_type": "display_data"
    }
   ],
   "source": [
    "# Must have parameters - \n",
    "# outlier_treatment: When any one of the hampel_filter or inter_quartile_range is selected, the respective section must be filled\n",
    "# missing_value_treatment: “cols” parameter with values is only considered and the respective treatment is applied to those columns\n",
    "\n",
    "### output_features in:\n",
    "# 1.3 - \"Granular Prophet Trend creation\" - granular_trend\n",
    "# 1.4 - \"Prophet Trend & SI creation\" - higher_level_trend, prophet_si_yearly, prophet_si_weekly, prophet_si_daily\n",
    "# 1.5 - \"Calculated SI creation\" - cal_si_daily,cal_si_weekly, cal_si_monthly, cal_si_qtrly \n",
    "\n",
    "# use the output_features according to the requirement and pass the relevant features under the exogenous variables section for the respective algorithm.\n",
    "\n",
    "data_processing = \"\"\"\n",
    "  \n",
    "  outlier_treatment_needed : yes #yes/no\n",
    "  outlier_treatment :\n",
    "    algorithm : inter_quartile_range\n",
    "    hampel_filter :\n",
    "      window_size : 2\n",
    "      no_of_sigmas : 3\n",
    "    inter_quartile_range :\n",
    "      minimum_quantile : 5\n",
    "      maximum_quantile : 95\n",
    "      \n",
    "      \n",
    "  feature_engineering:\n",
    "    prophet_based:\n",
    "      consider_granular_prophet_trend: yes #1.3\n",
    "      consider_prophet_trend_si: yes #1.4\n",
    "      higher_level_si_trend_creation :\n",
    "        sales_variable : Sales_Amt #Eq. Volume Sales or Sales Amount\n",
    "        granularity : [Div_No]\n",
    "        start_date : \"\"\n",
    "        end_date : \"\"\n",
    "\n",
    "      future_n_datapoints : 10\n",
    "      Holidays : \n",
    "        include_holidays : yes\n",
    "        country : US\n",
    "        years : [2018, 2019, 2020, 2021, 2022]\n",
    "        holiday_lower_window : 7\n",
    "        holiday_upper_window : 0\n",
    "        additional_holidays :\n",
    "          Easter :\n",
    "            ds : ['2018-04-01','2019-04-21','2020-04-12', '2021-04-04', '2022-04-17']\n",
    "          Valentine's day :\n",
    "            ds : ['2018-02-14','2019-02-14', '2020-02-14', '2021-02-14', '2022-02-14']\n",
    "            \n",
    "    calculation_based:\n",
    "      consider_calulated_si: yes #1.5\n",
    "      higher_level_si_creation :\n",
    "        sales_variable : Sales_Amt\n",
    "        granularity : [Div_No]\n",
    "        start_date : \"\"\n",
    "        end_date : \"\" \n",
    "  \n",
    "  \n",
    "  missing_value_treatment :\n",
    "    Mean :\n",
    "      cols : []\n",
    "      zero_as_missing_value : False\n",
    "    Median :\n",
    "      cols : []\n",
    "      zero_as_missing_value : False\n",
    "    Scalar :\n",
    "      cols : []\n",
    "      value : 0\n",
    "      zero_as_missing_value : False\n",
    "    Rolling_Mean :\n",
    "      cols : []\n",
    "      window : 4\n",
    "      zero_as_missing_value : False\n",
    "    Rolling_Median :\n",
    "      cols : []\n",
    "      window : 4\n",
    "      zero_as_missing_value : False\n",
    "    Forward_fill :\n",
    "      cols : []\n",
    "      zero_as_missing_value : False\n",
    "    Backward_fill :\n",
    "      cols : []\n",
    "      zero_as_missing_value : False\n",
    "    Linear_Interpolation :\n",
    "      cols : []\n",
    "      zero_as_missing_value : False\n",
    "    Spline_Interpolation :\n",
    "      cols : []\n",
    "      zero_as_missing_value : False\n",
    "    Mode :\n",
    "      cols : []\n",
    "    Mean_Across_Years :\n",
    "      cols : []\n",
    "      time_granularity : weekly\n",
    "      zero_as_missing_value : False\n",
    "\n",
    "\"\"\""
   ]
  },
  {
   "cell_type": "code",
   "execution_count": 0,
   "metadata": {
    "application/vnd.databricks.v1+cell": {
     "cellMetadata": {},
     "inputWidgets": {},
     "nuid": "a74b5eb6-2fb4-4d6c-8670-bd27a8bfe450",
     "showTitle": true,
     "title": "Feature Selection"
    }
   },
   "outputs": [
    {
     "data": {
      "text/html": [
       "<style scoped>\n",
       "  .ansiout {\n",
       "    display: block;\n",
       "    unicode-bidi: embed;\n",
       "    white-space: pre-wrap;\n",
       "    word-wrap: break-word;\n",
       "    word-break: break-all;\n",
       "    font-family: \"Source Code Pro\", \"Menlo\", monospace;;\n",
       "    font-size: 13px;\n",
       "    color: #555;\n",
       "    margin-left: 4px;\n",
       "    line-height: 19px;\n",
       "  }\n",
       "</style>\n",
       "<div class=\"ansiout\"></div>"
      ]
     },
     "metadata": {
      "application/vnd.databricks.v1+output": {
       "addedWidgets": {},
       "arguments": {},
       "data": "<div class=\"ansiout\"></div>",
       "datasetInfos": [],
       "metadata": {},
       "removedWidgets": [],
       "type": "html"
      }
     },
     "output_type": "display_data"
    }
   ],
   "source": [
    "feature_selection = \"\"\"\n",
    "  \n",
    "  exogenous_variables:\n",
    "      consider_correlation: yes \n",
    "      uncertain_corr: []\n",
    "      positive_corr: [tpr_discount,stateLevel_grocery_and_pharmacy_percent_change_from_baseline]\n",
    "      negative_corr: [median_baseprice,New_cases,AvgUnitPrice]\n",
    "  lasso_cvglmnet:\n",
    "    consider_limits: no\n",
    "    zero_penalty_vars: [median_baseprice,tpr_discount,stateLevel_grocery_and_pharmacy_percent_change_from_baseline,New_cases,AvgUnitPrice]\n",
    "    \n",
    "\"\"\""
   ]
  },
  {
   "cell_type": "code",
   "execution_count": 0,
   "metadata": {
    "application/vnd.databricks.v1+cell": {
     "cellMetadata": {},
     "inputWidgets": {},
     "nuid": "193479d4-43a2-49de-891e-eb47f696afa4",
     "showTitle": true,
     "title": "Validation"
    }
   },
   "outputs": [
    {
     "data": {
      "text/html": [
       "<style scoped>\n",
       "  .ansiout {\n",
       "    display: block;\n",
       "    unicode-bidi: embed;\n",
       "    white-space: pre-wrap;\n",
       "    word-wrap: break-word;\n",
       "    word-break: break-all;\n",
       "    font-family: \"Source Code Pro\", \"Menlo\", monospace;;\n",
       "    font-size: 13px;\n",
       "    color: #555;\n",
       "    margin-left: 4px;\n",
       "    line-height: 19px;\n",
       "  }\n",
       "</style>\n",
       "<div class=\"ansiout\"></div>"
      ]
     },
     "metadata": {
      "application/vnd.databricks.v1+output": {
       "addedWidgets": {},
       "arguments": {},
       "data": "<div class=\"ansiout\"></div>",
       "datasetInfos": [],
       "metadata": {},
       "removedWidgets": [],
       "type": "html"
      }
     },
     "output_type": "display_data"
    }
   ],
   "source": [
    "# This section takes the required information to perform backtesting and to split the data into 3 sets(train, validation & test)\n",
    "\n",
    "validation = \"\"\"\n",
    "\n",
    "  backtesting :\n",
    "    algorithm : expanding_window #sliding_window/expanding_window\n",
    "    stride: 4\n",
    "      \n",
    "  train_percentage : 0.7 #(0.7 = 70%) train_percentage_in_train_cum_validation\n",
    "  no_of_backtesting_test_periods : 5 #number of validation periods\n",
    "  no_of_test_periods : 8\n",
    "  metric : wmape  #mape, wmape, mae, rmse, bias, tracking_signal\n",
    "  \n",
    "  agg_metrics_req : no \n",
    "  agg_metrics_stride : 1 #there is a chance of missing some dates at the last if stride !=1\n",
    "  agg_metrics_test_periods : 4\n",
    "\n",
    "\"\"\""
   ]
  },
  {
   "cell_type": "code",
   "execution_count": 0,
   "metadata": {
    "application/vnd.databricks.v1+cell": {
     "cellMetadata": {},
     "inputWidgets": {},
     "nuid": "9d7ca5e5-3f25-4291-bda8-21ba1419becc",
     "showTitle": true,
     "title": "Algorithms"
    }
   },
   "outputs": [
    {
     "data": {
      "text/html": [
       "<style scoped>\n",
       "  .ansiout {\n",
       "    display: block;\n",
       "    unicode-bidi: embed;\n",
       "    white-space: pre-wrap;\n",
       "    word-wrap: break-word;\n",
       "    word-break: break-all;\n",
       "    font-family: \"Source Code Pro\", \"Menlo\", monospace;;\n",
       "    font-size: 13px;\n",
       "    color: #555;\n",
       "    margin-left: 4px;\n",
       "    line-height: 19px;\n",
       "  }\n",
       "</style>\n",
       "<div class=\"ansiout\"></div>"
      ]
     },
     "metadata": {
      "application/vnd.databricks.v1+output": {
       "addedWidgets": {},
       "arguments": {},
       "data": "<div class=\"ansiout\"></div>",
       "datasetInfos": [],
       "metadata": {},
       "removedWidgets": [],
       "type": "html"
      }
     },
     "output_type": "display_data"
    }
   ],
   "source": [
    "# This section takes the list of hyperparameters required for each of the algorithm as input and also the independent variables those decide the effectiveness of the model and its performance.  \n",
    "\n",
    "algorithms = \"\"\"\n",
    "\n",
    "  SimpleExponentialSmoothing :\n",
    "    Hyperparameters :\n",
    "      fit :\n",
    "        smoothing_level: [0.2, 0.3,0.4,0.5]\n",
    "        optimized: [True]\n",
    "      __init__ :\n",
    "        initialization_method: [estimated]\n",
    "      \n",
    "      \n",
    "  ExponentialSmoothingHolt :\n",
    "    Hyperparameters :\n",
    "      fit :\n",
    "        smoothing_level: [0.2, 0.3,0.4,0.5]\n",
    "        optimized: [True]\n",
    "      __init__:\n",
    "        exponential: [False]\n",
    "        damped_trend: [False]\n",
    "        \n",
    "        \n",
    "  ExponentialSmoothingHoltWinters :\n",
    "    Hyperparameters :\n",
    "      fit :\n",
    "        smoothing_level: [0.2, 0.3,0.4,0.5]\n",
    "        use_brute: [True]\n",
    "      __init__:\n",
    "        damped_trend: [False]\n",
    "        \n",
    "        \n",
    "  ElasticNet :\n",
    "    feature_selection:\n",
    "      use_feature_selected_idvs: no\n",
    "      approach: lasso_cvglmnet\n",
    "      must_have_idvs: []\n",
    "      \n",
    "    exogenous_variables:\n",
    "      consider_correlation: no \n",
    "      uncertain_corr: []\n",
    "      positive_corr: [tpr_discount,stateLevel_grocery_and_pharmacy_percent_change_from_baseline]\n",
    "      negative_corr: [median_baseprice,New_cases,AvgUnitPrice]\n",
    "    coefficients_required : yes\n",
    "    \n",
    "    Hyperparameters :\n",
    "      alpha : [0.75,0.9]\n",
    "      l1_ratio : [0.1,0.9]\n",
    "      fit_intercept: [True]\n",
    "      positive: [True]\n",
    "      \n",
    "      \n",
    "  XGBoost :\n",
    "    feature_selection:\n",
    "      use_feature_selected_idvs: no\n",
    "      approach: lasso_cvglmnet\n",
    "      must_have_idvs: []\n",
    "      \n",
    "    exogenous_variables:\n",
    "      consider_correlation: no \n",
    "      uncertain_corr: []\n",
    "      positive_corr: [tpr_discount,stateLevel_grocery_and_pharmacy_percent_change_from_baseline]\n",
    "      negative_corr: [median_baseprice,New_cases,AvgUnitPrice]\n",
    "      \n",
    "    Hyperparameters :\n",
    "      objective : ['reg:squarederror']\n",
    "      learning_rate : [0.05, 0.07]\n",
    "      n_estimators : [1, 5]\n",
    "    \n",
    "    \n",
    "  Lasso_cvglmnet:\n",
    "    feature_selection:\n",
    "      use_feature_selected_idvs: no\n",
    "      approach: lasso_cvglmnet\n",
    "      must_have_idvs: []\n",
    "      \n",
    "    exogenous_variables:\n",
    "      consider_correlation: no \n",
    "      uncertain_corr: []\n",
    "      positive_corr: [tpr_discount,stateLevel_grocery_and_pharmacy_percent_change_from_baseline]\n",
    "      negative_corr: [median_baseprice,New_cases,AvgUnitPrice]\n",
    "    coefficients_required : yes\n",
    "    \n",
    "    limits:  #coeff_bounds: {var:[lower_bound,upper_bound]} NOTE:-ve values in upper_bound and >0 values in lower_bound not allowed\n",
    "      consider_limits: no \n",
    "      coeff_bounds: {'tpr_discount':[0,0.6]} \n",
    "    zero_penalty_vars: [median_baseprice,tpr_discount,stateLevel_grocery_and_pharmacy_percent_change_from_baseline,New_cases,AvgUnitPrice]\n",
    "    \n",
    "    \n",
    "  Prophet :\n",
    "    feature_selection:\n",
    "      use_feature_selected_idvs: no\n",
    "      approach: lasso_cvglmnet\n",
    "      must_have_idvs: []\n",
    "      \n",
    "    exogenous_variables:\n",
    "      consider_correlation: no\n",
    "      uncertain_corr: []\n",
    "      positive_corr: [tpr_discount,stateLevel_grocery_and_pharmacy_percent_change_from_baseline]\n",
    "      negative_corr: [median_baseprice,New_cases,AvgUnitPrice]\n",
    "    regressor_mode : 'additive'\n",
    "    \n",
    "    Hyperparameters :\n",
    "      seasonality_prior_scale : range(0.5,0.92,0.4) #which is equivalent to [0.5,0.9]\n",
    "      changepoint_prior_scale: [0.01,0.05]\n",
    "      yearly_seasonality: [True]\n",
    "    Holidays :\n",
    "      include_holidays : yes\n",
    "      country : US\n",
    "      years : [2018, 2019, 2020, 2021, 2022]\n",
    "      holiday_lower_window : 7\n",
    "      holiday_upper_window : 7\n",
    "      additional_holidays :\n",
    "        Easter :\n",
    "          ds : ['2018-04-01','2019-04-21','2020-04-12', '2021-04-04']\n",
    "        Valentine's day :\n",
    "          ds : ['2018-02-14','2019-02-14', '2020-02-14', '2021-02-14']\n",
    "\n",
    "\n",
    "  SARIMAX :\n",
    "    feature_selection:\n",
    "      use_feature_selected_idvs: no\n",
    "      approach: lasso_cvglmnet\n",
    "      must_have_idvs: []\n",
    "      \n",
    "    exogenous_variables:\n",
    "      consider_correlation: no \n",
    "      uncertain_corr: []\n",
    "      positive_corr: [tpr_discount,stateLevel_grocery_and_pharmacy_percent_change_from_baseline]\n",
    "      negative_corr: [median_baseprice,New_cases,AvgUnitPrice]\n",
    "    coefficients_required : yes \n",
    "    \n",
    "    Auto_ARIMA :\n",
    "      use_auto_arima : yes\n",
    "      consider_exogenous_variables : yes\n",
    "      seasonal : True\n",
    "      start_p : 2\n",
    "      max_p : 3\n",
    "      start_P : 0\n",
    "      \n",
    "    Hyperparameters :\n",
    "      fit:\n",
    "        cov_type: ['opg']\n",
    "        optim_score: ['harvey']\n",
    "      __init__:\n",
    "        measurement_error : [False,True]\n",
    "        concentrate_scale : [False,True]\n",
    "        order : [[1, 1, 1]]\n",
    "        seasonal_order : [[0, 0, 0, 0]]\n",
    "\n",
    "\n",
    "  DeepAR :\n",
    "    global_model_gran: ['Div_No']\n",
    "    exogenous_variables:\n",
    "      feat_dynamic_real: [tpr_discount,median_baseprice,New_cases,AvgUnitPrice,stateLevel_grocery_and_pharmacy_percent_change_from_baseline]\n",
    "      \n",
    "    sales_amt_variable : Sales_Amt\n",
    "    Hyperparameters :\n",
    "      Estimator:\n",
    "        num_cells : [30]\n",
    "        num_layers : [1,5]\n",
    "        dropout_rate : [0.05,0.06]\n",
    "      Trainer:\n",
    "        epochs: [1]\n",
    "        weight_decay: [0.00000001]\n",
    "        \n",
    "        \n",
    "  DeepState : \n",
    "    global_model_gran: ['Div_No']\n",
    "    exogenous_variables:\n",
    "      feat_dynamic_real: [tpr_discount,median_baseprice,New_cases,AvgUnitPrice,stateLevel_grocery_and_pharmacy_percent_change_from_baseline]\n",
    "      \n",
    "    sales_amt_variable : Sales_Amt\n",
    "    Hyperparameters :\n",
    "      Estimator:\n",
    "        use_feat_dynamic_real : [True]\n",
    "        num_layers : [2]\n",
    "      Trainer:\n",
    "        epochs: [1]\n",
    "        weight_decay: [0.00000001]\n",
    "        \n",
    "        \n",
    "  LSTM :\n",
    "    feature_selection:\n",
    "      use_feature_selected_idvs: no\n",
    "      approach: lasso_cvglmnet\n",
    "      must_have_idvs: []\n",
    "      \n",
    "    exogenous_variables:\n",
    "      consider_correlation: yes \n",
    "      uncertain_corr: []\n",
    "      positive_corr: [tpr_discount,stateLevel_grocery_and_pharmacy_percent_change_from_baseline]\n",
    "      negative_corr: [median_baseprice,New_cases,AvgUnitPrice]\n",
    "      \n",
    "    forecast_periods: 4\n",
    "    lookback_periods: 5 \n",
    "    \n",
    "    Hyperparameters :\n",
    "      compile: \n",
    "        loss: ['mae']\n",
    "        optimizer: ['adam']\n",
    "      fit:\n",
    "        epochs: [50]\n",
    "        batch_size: [32]\n",
    "        verbose: [2]\n",
    "        shuffle: [False]\n",
    "        \n",
    "\"\"\""
   ]
  },
  {
   "cell_type": "code",
   "execution_count": 0,
   "metadata": {
    "application/vnd.databricks.v1+cell": {
     "cellMetadata": {},
     "inputWidgets": {},
     "nuid": "499024c4-74d0-4505-a189-6995377a51fb",
     "showTitle": true,
     "title": "Tracking"
    }
   },
   "outputs": [
    {
     "data": {
      "text/html": [
       "<style scoped>\n",
       "  .ansiout {\n",
       "    display: block;\n",
       "    unicode-bidi: embed;\n",
       "    white-space: pre-wrap;\n",
       "    word-wrap: break-word;\n",
       "    word-break: break-all;\n",
       "    font-family: \"Source Code Pro\", \"Menlo\", monospace;;\n",
       "    font-size: 13px;\n",
       "    color: #555;\n",
       "    margin-left: 4px;\n",
       "    line-height: 19px;\n",
       "  }\n",
       "</style>\n",
       "<div class=\"ansiout\"></div>"
      ]
     },
     "metadata": {
      "application/vnd.databricks.v1+output": {
       "addedWidgets": {},
       "arguments": {},
       "data": "<div class=\"ansiout\"></div>",
       "datasetInfos": [],
       "metadata": {},
       "removedWidgets": [],
       "type": "html"
      }
     },
     "output_type": "display_data"
    }
   ],
   "source": [
    "# Must have parameters -\n",
    "# When the tracking_needed is yes, all the parameters must be filled\n",
    "\n",
    "tracking = \"\"\"\n",
    "\n",
    "  tracking_needed : no \n",
    "  type : \"Managed\" #Managed/Unmanaged\n",
    "  tracking_uri : None #Will be used when type is Unmanaged\n",
    "  mlflow_experiment_id : \"3114000483440696\"\n",
    "  \n",
    "\"\"\""
   ]
  },
  {
   "cell_type": "code",
   "execution_count": 0,
   "metadata": {
    "application/vnd.databricks.v1+cell": {
     "cellMetadata": {},
     "inputWidgets": {},
     "nuid": "3cf2d6b3-ca9d-4f3f-9d53-13fa56955814",
     "showTitle": true,
     "title": "Manual intervention not needed from here"
    }
   },
   "outputs": [
    {
     "data": {
      "text/html": [
       "<style scoped>\n",
       "  .ansiout {\n",
       "    display: block;\n",
       "    unicode-bidi: embed;\n",
       "    white-space: pre-wrap;\n",
       "    word-wrap: break-word;\n",
       "    word-break: break-all;\n",
       "    font-family: \"Source Code Pro\", \"Menlo\", monospace;;\n",
       "    font-size: 13px;\n",
       "    color: #555;\n",
       "    margin-left: 4px;\n",
       "    line-height: 19px;\n",
       "  }\n",
       "</style>\n",
       "<div class=\"ansiout\"></div>"
      ]
     },
     "metadata": {
      "application/vnd.databricks.v1+output": {
       "addedWidgets": {},
       "arguments": {},
       "data": "<div class=\"ansiout\"></div>",
       "datasetInfos": [],
       "metadata": {},
       "removedWidgets": [],
       "type": "html"
      }
     },
     "output_type": "display_data"
    }
   ],
   "source": [
    "app_config = yaml.safe_load(general_inputs)\n",
    "app_config['data_processing'] = yaml.safe_load(data_processing)\n",
    "app_config['validation'] = yaml.safe_load(validation)\n",
    "app_config['feature_selection'] = yaml.safe_load(feature_selection)\n",
    "app_config['Algorithms'] = yaml.safe_load(algorithms)\n",
    "app_config['tracking'] = yaml.safe_load(tracking)\n",
    "# app_config"
   ]
  }
 ],
 "metadata": {
  "application/vnd.databricks.v1+notebook": {
   "dashboards": [],
   "language": "python",
   "notebookMetadata": {
    "pythonIndentUnit": 4
   },
   "notebookName": "0_Config",
   "notebookOrigID": 98246570295881,
   "widgets": {}
  },
  "kernelspec": {
   "display_name": "Python 3 (ipykernel)",
   "language": "python",
   "name": "python3"
  },
  "language_info": {
   "codemirror_mode": {
    "name": "ipython",
    "version": 3
   },
   "file_extension": ".py",
   "mimetype": "text/x-python",
   "name": "python",
   "nbconvert_exporter": "python",
   "pygments_lexer": "ipython3",
   "version": "3.8.10"
  }
 },
 "nbformat": 4,
 "nbformat_minor": 1
}
