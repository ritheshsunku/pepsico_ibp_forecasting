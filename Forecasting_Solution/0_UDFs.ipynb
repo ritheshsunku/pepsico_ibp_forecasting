{
 "cells": [
  {
   "cell_type": "code",
   "execution_count": null,
   "metadata": {},
   "outputs": [],
   "source": [
    "import os\n",
    "import pandas as pd"
   ]
  },
  {
   "cell_type": "code",
   "execution_count": 1,
   "metadata": {},
   "outputs": [],
   "source": [
    "def data_loading(path, param_dict = {}):\n",
    "    if os.path.isdir(path):  \n",
    "        all_files = os.listdir(path)\n",
    "        all_files_ext = []\n",
    "        for file_name in all_files:\n",
    "            all_files_ext.append(os.path.splitext(file_name)[1])\n",
    "        df = pd.DataFrame()\n",
    "        \n",
    "        if(\".csv\" in all_files_ext):\n",
    "            for file_name in all_files:\n",
    "                if('.csv' in file_name):\n",
    "                    df = pd.concat([df,pd.read_csv(path + \"/\" + file_name)], ignore_index = True)\n",
    "            return df\n",
    "        elif(\".parquet\" in all_files_ext):\n",
    "            for file_name in all_files:\n",
    "                if('.parquet' in file_name):\n",
    "                    df = pd.concat([df,pd.read_parquet(path + \"/\" + file_name, engine='pyarrow')], ignore_index = True)\n",
    "            return df\n",
    "        else:\n",
    "            assert False, \"Only .csv or .parquet file types are supported\"\n",
    "        \n",
    "    elif os.path.isfile(path):  \n",
    "        file_type = os.path.splitext(path)[1]\n",
    "        if(\".csv\" == file_type):\n",
    "            df = pd.read_csv(path)\n",
    "            return df\n",
    "        elif(\".parquet\" == file_type):\n",
    "            df = pd.read_parquet(path, engine='pyarrow')\n",
    "            return df\n",
    "        elif(\".dat\" == file_type):\n",
    "            df = pd.read_table(path, **param_dict)\n",
    "            return df\n",
    "        elif(\".xlsx\" == file_type):\n",
    "            df = pd.read_excel(path, **param_dict)\n",
    "            return df        \n",
    "        else:\n",
    "            assert False, \"Only .csv, .parquet, .dat file types are supported\"\n",
    "    else:  \n",
    "        assert False, 'Path specified is not correct'"
   ]
  }
 ],
 "metadata": {
  "kernelspec": {
   "display_name": "base",
   "language": "python",
   "name": "python3"
  },
  "language_info": {
   "codemirror_mode": {
    "name": "ipython",
    "version": 3
   },
   "file_extension": ".py",
   "mimetype": "text/x-python",
   "name": "python",
   "nbconvert_exporter": "python",
   "pygments_lexer": "ipython3",
   "version": "3.9.5"
  },
  "orig_nbformat": 4
 },
 "nbformat": 4,
 "nbformat_minor": 2
}
